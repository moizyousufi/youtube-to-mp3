{
 "cells": [
  {
   "cell_type": "markdown",
   "metadata": {},
   "source": [
    "Requisites: install yt_dlp with `pip install -U yt-dlp[default]` and install moviepy with `pip install moviepy`. Also install ffmpeg for your OS from this link: https://ffmpeg.org/download.html"
   ]
  },
  {
   "cell_type": "markdown",
   "metadata": {},
   "source": [
    "To use this, just change the link that's at the bottom code block to the youtube link you desire. Then run ALL of the code blocks."
   ]
  },
  {
   "cell_type": "markdown",
   "metadata": {},
   "source": [
    "First, we want to import our necessary libraries"
   ]
  },
  {
   "cell_type": "code",
   "execution_count": 1,
   "metadata": {},
   "outputs": [],
   "source": [
    "import yt_dlp\n",
    "import os\n",
    "\n",
    "from moviepy.editor import VideoFileClip"
   ]
  },
  {
   "cell_type": "markdown",
   "metadata": {},
   "source": [
    "Now we will define a function to download a youtube video"
   ]
  },
  {
   "cell_type": "code",
   "execution_count": 2,
   "metadata": {},
   "outputs": [],
   "source": [
    "def download_youtube_video(url, output_path):\n",
    "    ydl_opts = {\n",
    "        'format': 'bestvideo[ext=mp4]+bestaudio/best',\n",
    "        'outtmpl': output_path,\n",
    "    }\n",
    "\n",
    "    with yt_dlp.YoutubeDL(ydl_opts) as ydl:\n",
    "        info_dict = ydl.extract_info(url, download=True)\n",
    "        video_title = info_dict.get('title', None)\n",
    "        # Modify the line below if the title is used to form the filename\n",
    "        downloaded_video_path = ydl.prepare_filename(info_dict)\n",
    "    \n",
    "    \n",
    "\n",
    "    return downloaded_video_path  # Returning the actual downloaded file path"
   ]
  },
  {
   "cell_type": "code",
   "execution_count": 3,
   "metadata": {},
   "outputs": [],
   "source": [
    "def download_youtube_video(url, output_path):\n",
    "    ydl_opts = {\n",
    "        'format': 'bestvideo[ext=mp4]+bestaudio[ext=m4a]/mp4',\n",
    "        'outtmpl': output_path,\n",
    "    }\n",
    "\n",
    "    with yt_dlp.YoutubeDL(ydl_opts) as ydl:\n",
    "        ydl.download([url])\n",
    "\n",
    "    return output_path"
   ]
  },
  {
   "cell_type": "markdown",
   "metadata": {},
   "source": [
    "And define a function to turn it into sound data"
   ]
  },
  {
   "cell_type": "code",
   "execution_count": 4,
   "metadata": {},
   "outputs": [],
   "source": [
    "def convert_to_mp3(filename):\n",
    "    video = VideoFileClip(filename)\n",
    "    filename_without_extension = os.path.splitext(filename)[0]\n",
    "    audio_filename = f\"{filename_without_extension}.mp3\"\n",
    "    video.audio.write_audiofile(audio_filename)\n",
    "    video.close()"
   ]
  },
  {
   "cell_type": "markdown",
   "metadata": {},
   "source": [
    "Now we execute!"
   ]
  },
  {
   "cell_type": "code",
   "execution_count": 5,
   "metadata": {},
   "outputs": [
    {
     "name": "stdout",
     "output_type": "stream",
     "text": [
      "[youtube] Extracting URL: https://www.youtube.com/watch?v=HKH9p19PRLA\n",
      "[youtube] HKH9p19PRLA: Downloading webpage\n",
      "[youtube] HKH9p19PRLA: Downloading ios player API JSON\n",
      "[youtube] HKH9p19PRLA: Downloading android player API JSON\n"
     ]
    },
    {
     "name": "stderr",
     "output_type": "stream",
     "text": [
      "WARNING: [youtube] Skipping player responses from android clients (got player responses for video \"aQvGIIdgFDM\" instead of \"HKH9p19PRLA\")\n"
     ]
    },
    {
     "name": "stdout",
     "output_type": "stream",
     "text": [
      "[youtube] HKH9p19PRLA: Downloading m3u8 information\n",
      "[info] Testing format 614\n",
      "[info] HKH9p19PRLA: Downloading 1 format(s): 614+140\n",
      "[hlsnative] Downloading m3u8 manifest\n",
      "[hlsnative] Total fragments: 46\n",
      "[download] Destination: Push Ups Drake.f614.mp4\n",
      "[download] 100% of   10.25MiB in 00:00:03 at 2.85MiB/s                   \n",
      "[download] Destination: Push Ups Drake.f140.m4a\n",
      "[download] 100% of    3.60MiB in 00:00:00 at 19.10MiB/s  \n",
      "[Merger] Merging formats into \"Push Ups Drake.mp4\"\n",
      "Deleting original file Push Ups Drake.f140.m4a (pass -k to keep)\n",
      "Deleting original file Push Ups Drake.f614.mp4 (pass -k to keep)\n",
      "MoviePy - Writing audio in Push Ups Drake.mp3\n"
     ]
    },
    {
     "name": "stderr",
     "output_type": "stream",
     "text": [
      "                                                                      "
     ]
    },
    {
     "name": "stdout",
     "output_type": "stream",
     "text": [
      "MoviePy - Done.\n"
     ]
    },
    {
     "name": "stderr",
     "output_type": "stream",
     "text": [
      "\r"
     ]
    }
   ],
   "source": [
    "youtube_url = 'https://www.youtube.com/watch?v=HKH9p19PRLA'\n",
    "video_path = 'Push Ups Drake.mp4' \n",
    "downloaded_video_path = download_youtube_video(youtube_url, video_path)\n",
    "convert_to_mp3(downloaded_video_path)\n",
    "\n",
    "os.remove(video_path)\n"
   ]
  }
 ],
 "metadata": {
  "kernelspec": {
   "display_name": "Python 3",
   "language": "python",
   "name": "python3"
  },
  "language_info": {
   "codemirror_mode": {
    "name": "ipython",
    "version": 3
   },
   "file_extension": ".py",
   "mimetype": "text/x-python",
   "name": "python",
   "nbconvert_exporter": "python",
   "pygments_lexer": "ipython3",
   "version": "3.9.13"
  }
 },
 "nbformat": 4,
 "nbformat_minor": 2
}
